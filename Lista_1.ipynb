{
  "nbformat": 4,
  "nbformat_minor": 0,
  "metadata": {
    "colab": {
      "name": "Lista 1.ipynb",
      "provenance": [],
      "collapsed_sections": [],
      "authorship_tag": "ABX9TyNBLhJD5xvMiNdelbJRCE/o",
      "include_colab_link": true
    },
    "kernelspec": {
      "name": "python3",
      "display_name": "Python 3"
    },
    "language_info": {
      "name": "python"
    }
  },
  "cells": [
    {
      "cell_type": "markdown",
      "metadata": {
        "id": "view-in-github",
        "colab_type": "text"
      },
      "source": [
        "<a href=\"https://colab.research.google.com/github/sabinonatalia/Listas_Python_UFABC/blob/main/Lista_1.ipynb\" target=\"_parent\"><img src=\"https://colab.research.google.com/assets/colab-badge.svg\" alt=\"Open In Colab\"/></a>"
      ]
    },
    {
      "cell_type": "markdown",
      "metadata": {
        "id": "cwmHVWWHVcyv"
      },
      "source": [
        ""
      ]
    },
    {
      "cell_type": "code",
      "metadata": {
        "id": "XjKRxPQaYMnV"
      },
      "source": [
        ""
      ],
      "execution_count": null,
      "outputs": []
    },
    {
      "cell_type": "code",
      "metadata": {
        "id": "3uUENnJ9Vp_E"
      },
      "source": [
        "#Questão 1\n",
        "#Alice pagou uma televisao de v reais em n vezes sem juros. Qual o valor de cada parcela?\n",
        "#Faca um programa que:\n",
        "#1) Recebe o valor de v\n",
        "#2) Recebe o valor de n\n",
        "#3) Imprime o valor de cada parcela\n",
        "#Formatar a sua resposta com duas casas decimais utilizando este comando:\n",
        "#print(\"%.2f\" % (resposta)).\n",
        "import math\n",
        "valorTv = float(input(\"Digite o valor total da televisão: \")) \n",
        "vezesValor = int(input(\"Digite em quantas vezes quer parcelar: \"))\n",
        "\n",
        "print(\"%.2f\" % (valorTv / vezesValor))\n"
      ],
      "execution_count": null,
      "outputs": []
    },
    {
      "cell_type": "code",
      "metadata": {
        "id": "4Muaykk4e8Vq"
      },
      "source": [
        "#Questão 2\n",
        "#Para converter uma temperatura de Celsius (C) para Fahrenheit (F), temos que multiplicar C por 9/5 e depois somar 32.\n",
        "#Fa\u0018ca um programa que\n",
        "#1) Recebe o valor de C\n",
        "#2) Converte C Celsius para Fahrenheit.\n",
        "#Formatar a sua resposta com duas casas decimas utilizando este comando:\n",
        "#print(\"%.2f\" %resposta)\n",
        "\n",
        "C = float(input(\"Entre com a temperatura em graus Celsius: \"))\n",
        "F = C * (9 / 5) + 32\n",
        "print(\"Valor em Fahrenheit: \",\"%.2f\" %F )\n"
      ],
      "execution_count": null,
      "outputs": []
    },
    {
      "cell_type": "code",
      "metadata": {
        "id": "hLcpBDs9iCTL"
      },
      "source": [
        "#Questão 3\n",
        "#Uma torneira pinga a uma taxa de G gotas por segundo. Cada gota possui um volume de V mililitros. Calcule o volume\n",
        "#de \u0013agua desperdi\u0018cado depois de exatos D dias de vazamento. Faca a conta de modo que a resposta seja em litros, sem a\n",
        "#parte decimal.\n",
        "#O seu programa deve\n",
        "#1) Receber G (inteiro)\n",
        "#2) Receber V (pode ter casas decimais)\n",
        "#3) Receber D (inteiro)\n",
        "#4) Calcular a resposta em litros e imprimi-la sem as casas decimais\n",
        "#Para imprimir a resposta sem casas decimais use:\n",
        "#print(\"%d\" %resposta)\n",
        "\n",
        "G = int(input(\"Gotas por segundo: \"))\n",
        "V = float(input(\"Volume em mm: \"))\n",
        "D = int(input(\"Dias: \"))\n",
        "\n",
        "resp=(V*G*D*24*60*60)\n",
        "\n",
        "#print(\"%d\" %resp)\n",
        "print(math.trunc(resp/1000))\n",
        "\n"
      ],
      "execution_count": null,
      "outputs": []
    },
    {
      "cell_type": "code",
      "metadata": {
        "id": "Z8Jwq2u7rtSX"
      },
      "source": [
        "#Questão 4\n",
        "#Calcular a fórmula de Bhaskara e printar a segunda raiz\n",
        "import math\n",
        "a = int(input(\"Digite o valor de a: \"))\n",
        "b = int(input(\"Digite o valor de b: \"))\n",
        "c = int(input(\"Digite o valor de c: \"))\n",
        "delta = b**2-4*a*c\n",
        "raiz2 = (-b-math.sqrt(delta))/(2*a)\n",
        "print(\"%.2f\"%(raiz2))"
      ],
      "execution_count": null,
      "outputs": []
    },
    {
      "cell_type": "code",
      "metadata": {
        "id": "lCpIDfUme7Vo"
      },
      "source": [
        "#Questão 5\n",
        "#Calcule o mmc entre x e y. Nao esquecer de importar a biblioteca: import math\n",
        "#O seu programa deve\n",
        "#1) Ler x (inteiro)\n",
        "#2) Ler y (inteiro)\n",
        "#3) Imprimir o mmc entre x e y.\n",
        "#Note que o mmc deve ser um numero inteiro. Imprima sua resposta usando este comando: print(\"%d\" %resposta)\n",
        "\n",
        "import math\n",
        "\n",
        "x = int(input())\n",
        "y = int(input())\n",
        "\n",
        "mmc = x * y / math.gcd(x,y)\n",
        "\n",
        "print(\"%d\" %mmc)\n"
      ],
      "execution_count": null,
      "outputs": []
    }
  ]
}