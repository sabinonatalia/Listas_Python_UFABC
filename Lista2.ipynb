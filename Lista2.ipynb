{
  "nbformat": 4,
  "nbformat_minor": 0,
  "metadata": {
    "colab": {
      "name": "Lista2.ipynb",
      "provenance": [],
      "authorship_tag": "ABX9TyPP/ntN9sQTRXGGn1uGQgVV",
      "include_colab_link": true
    },
    "kernelspec": {
      "name": "python3",
      "display_name": "Python 3"
    },
    "language_info": {
      "name": "python"
    }
  },
  "cells": [
    {
      "cell_type": "markdown",
      "metadata": {
        "id": "view-in-github",
        "colab_type": "text"
      },
      "source": [
        "<a href=\"https://colab.research.google.com/github/sabinonatalia/Listas_Python_UFABC/blob/main/Lista2.ipynb\" target=\"_parent\"><img src=\"https://colab.research.google.com/assets/colab-badge.svg\" alt=\"Open In Colab\"/></a>"
      ]
    },
    {
      "cell_type": "code",
      "metadata": {
        "id": "x2S-qjqgQPy5",
        "colab": {
          "base_uri": "https://localhost:8080/"
        },
        "outputId": "17b5779b-14ef-45ea-dc55-9c3d63f63d83"
      },
      "source": [
        "import pandas as pd\n",
        "df = pd.read_csv(\"https://www.dropbox.com/s/ot0qrsm9dz4rgiw/fake-file16.csv?dl=1\")\n",
        "print(df.query(\"Salario <= 11059 and Idade <= 46\"))"
      ],
      "execution_count": null,
      "outputs": [
        {
          "output_type": "stream",
          "name": "stdout",
          "text": [
            "    Funcionario Escolaridade Genero  Idade  Meses  Salario\n",
            "1             2     Fundam.1      F     35     36     3640\n",
            "4             5     Fundam.2      F     32     94     3450\n",
            "11           12     Fundam.2      M     42     64     4500\n",
            "14           15     Fundam.2      F     26     45     4860\n"
          ]
        }
      ]
    },
    {
      "cell_type": "code",
      "metadata": {
        "colab": {
          "base_uri": "https://localhost:8080/"
        },
        "id": "ECXe-OaMUsha",
        "outputId": "29c42a5b-70bb-4060-caf0-f52a69227b86"
      },
      "source": [
        "import pandas as pd\n",
        "df = pd.read_csv(\"https://www.dropbox.com/s/cwfdaqzzznaetiz/fake-file02.csv?dl=1\")\n",
        "print(df.query(\"Idade <= 47\"))"
      ],
      "execution_count": null,
      "outputs": [
        {
          "output_type": "stream",
          "name": "stdout",
          "text": [
            "    Funcionario Escolaridade Genero  Idade  Meses  Salario\n",
            "0             1     Fundam.1      M     25     75     9140\n",
            "2             3     Fundam.1      M     35      2    10000\n",
            "3             4     Fundam.2      M     40     63    15760\n",
            "7             8     Fundam.1      M     45     93     6290\n",
            "8             9     Fundam.2      F     37     73    16940\n",
            "9            10     Fundam.1      M     41     48     5210\n",
            "14           15     Fundam.2      F     22      7    15860\n",
            "16           17     Fundam.2      F     21     58    10280\n",
            "19           20     Superior      M     41     33    18550\n"
          ]
        }
      ]
    },
    {
      "cell_type": "code",
      "metadata": {
        "colab": {
          "base_uri": "https://localhost:8080/"
        },
        "id": "BGNiA_IrVHV4",
        "outputId": "a9bf1207-ef5e-49e0-cb8b-3f786679bd75"
      },
      "source": [
        "import pandas as pd\n",
        "df = pd.read_csv(\"https://www.dropbox.com/s/ceqfz524q4rc10l/fake-file17.csv?dl=1\")\n",
        "print(df.groupby(\"Idade\")[\"Escolaridade\"].min())"
      ],
      "execution_count": null,
      "outputs": [
        {
          "output_type": "stream",
          "name": "stdout",
          "text": [
            "Idade\n",
            "21    Fundam.2\n",
            "26    Fundam.2\n",
            "31    Fundam.2\n",
            "44    Fundam.1\n",
            "49    Fundam.2\n",
            "50    Fundam.1\n",
            "51    Superior\n",
            "52    Fundam.2\n",
            "54    Fundam.1\n",
            "55    Fundam.1\n",
            "56    Fundam.2\n",
            "59    Fundam.2\n",
            "62    Fundam.1\n",
            "64    Fundam.2\n",
            "66    Fundam.1\n",
            "72    Fundam.2\n",
            "Name: Escolaridade, dtype: object\n"
          ]
        }
      ]
    },
    {
      "cell_type": "code",
      "metadata": {
        "colab": {
          "base_uri": "https://localhost:8080/"
        },
        "id": "RcW7h3VEWvF5",
        "outputId": "1faa4cd6-073c-41a4-e02f-4d9d781813ef"
      },
      "source": [
        "import pandas as pd\n",
        "df = pd.read_csv(\"https://www.dropbox.com/s/ndh81l021ny4ror/fake-file07.csv?dl=1\")\n",
        "print(df.sort_values(by=[\"Salario\", \"Genero\"], ascending=[False, True]))"
      ],
      "execution_count": null,
      "outputs": [
        {
          "output_type": "stream",
          "name": "stdout",
          "text": [
            "    Funcionario Escolaridade Genero  Idade  Meses  Salario\n",
            "16           17     Fundam.2      M     37     86    18800\n",
            "12           13     Fundam.1      M     21     36    18290\n",
            "14           15     Fundam.2      F     37     71    17920\n",
            "1             2     Fundam.2      M     56      4    17820\n",
            "0             1     Fundam.2      F     16     84    16300\n",
            "7             8     Superior      F     73     18    15850\n",
            "18           19     Fundam.2      F     42     43    15820\n",
            "8             9     Fundam.1      M     32     92    15020\n",
            "9            10     Fundam.2      F     26     97    14320\n",
            "15           16     Fundam.2      M     25     58    12980\n",
            "11           12     Superior      M     52     42    12100\n",
            "13           14     Superior      M     60     35    10680\n",
            "5             6     Superior      M     62     31     9530\n",
            "3             4     Fundam.2      F     65      6     8610\n",
            "10           11     Fundam.2      F     50     82     8300\n",
            "6             7     Fundam.1      O     18     72     7690\n",
            "19           20     Fundam.1      F     42     47     5220\n",
            "17           18     Fundam.1      F     32     96     2390\n",
            "4             5     Fundam.1      F     36     85     1800\n",
            "2             3     Fundam.1      F     64      6     1580\n"
          ]
        }
      ]
    },
    {
      "cell_type": "code",
      "metadata": {
        "colab": {
          "base_uri": "https://localhost:8080/"
        },
        "id": "TBJuqBQpYnM0",
        "outputId": "a4463a73-6b28-409b-a55d-957b68dc6a4f"
      },
      "source": [
        "import pandas as pd\n",
        "df = pd.read_csv(\"https://www.dropbox.com/s/ceqfz524q4rc10l/fake-file17.csv?dl=1\")\n",
        "print(df.sort_values(by=\"Genero\", ascending=False))"
      ],
      "execution_count": null,
      "outputs": [
        {
          "output_type": "stream",
          "name": "stdout",
          "text": [
            "    Funcionario Escolaridade Genero  Idade  Meses  Salario\n",
            "2             3     Fundam.2      O     64     49    19670\n",
            "3             4     Fundam.2      O     72     18    13270\n",
            "9            10     Fundam.2      O     21     73     4230\n",
            "14           15     Fundam.1      M     50     41    15140\n",
            "6             7     Fundam.1      M     66      2     8040\n",
            "7             8     Fundam.2      M     59     19    12910\n",
            "8             9     Fundam.2      M     56     86    19300\n",
            "16           17     Fundam.1      M     62     68     1410\n",
            "15           16     Fundam.1      M     55     34     5580\n",
            "12           13     Superior      M     72     16     8880\n",
            "13           14     Fundam.2      M     31     17     4160\n",
            "0             1     Superior      F     62     88    12650\n",
            "18           19     Fundam.2      F     49     47    14990\n",
            "17           18     Fundam.2      F     52     16    10720\n",
            "10           11     Superior      F     51     77    11070\n",
            "11           12     Fundam.1      F     55     36    19020\n",
            "1             2     Fundam.1      F     44     62     6500\n",
            "5             6     Fundam.2      F     62     45     6450\n",
            "4             5     Fundam.2      F     26      7     1510\n",
            "19           20     Fundam.1      F     54     32    14920\n"
          ]
        }
      ]
    }
  ]
}