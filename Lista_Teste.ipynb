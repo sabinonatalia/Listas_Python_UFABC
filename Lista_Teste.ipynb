{
  "nbformat": 4,
  "nbformat_minor": 0,
  "metadata": {
    "colab": {
      "name": "Lista-Teste.ipynb",
      "provenance": [],
      "authorship_tag": "ABX9TyPitn9FyKvMRqh6hUQ4CgUM",
      "include_colab_link": true
    },
    "kernelspec": {
      "name": "python3",
      "display_name": "Python 3"
    },
    "language_info": {
      "name": "python"
    }
  },
  "cells": [
    {
      "cell_type": "markdown",
      "metadata": {
        "id": "view-in-github",
        "colab_type": "text"
      },
      "source": [
        "<a href=\"https://colab.research.google.com/github/sabinonatalia/Listas_Python_UFABC/blob/main/Lista_Teste.ipynb\" target=\"_parent\"><img src=\"https://colab.research.google.com/assets/colab-badge.svg\" alt=\"Open In Colab\"/></a>"
      ]
    },
    {
      "cell_type": "markdown",
      "metadata": {
        "id": "-q80K6wAL4v6"
      },
      "source": [
        "Lista de teste"
      ]
    },
    {
      "cell_type": "code",
      "metadata": {
        "id": "hHsbp2zsL4Pk"
      },
      "source": [
        "n = int(input(\"Digite um número inteiro qualquer: \"))\n",
        "print(\"Resposta\", \"=\", n)"
      ],
      "execution_count": null,
      "outputs": []
    },
    {
      "cell_type": "code",
      "metadata": {
        "id": "ouw6aE2dNyAJ"
      },
      "source": [
        ""
      ],
      "execution_count": null,
      "outputs": []
    }
  ]
}